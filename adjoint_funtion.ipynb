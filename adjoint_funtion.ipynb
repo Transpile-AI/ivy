{
  "nbformat": 4,
  "nbformat_minor": 0,
  "metadata": {
    "colab": {
      "provenance": []
    },
    "kernelspec": {
      "name": "python3",
      "display_name": "Python 3"
    },
    "language_info": {
      "name": "python"
    }
  },
  "cells": [
    {
      "cell_type": "code",
      "execution_count": 2,
      "metadata": {
        "colab": {
          "base_uri": "https://localhost:8080/"
        },
        "id": "16zwUuymC6Ob",
        "outputId": "c5520fd1-dec4-4c86-a3ff-2ca37f58e5ea"
      },
      "outputs": [
        {
          "output_type": "stream",
          "name": "stdout",
          "text": [
            "Looking in indexes: https://pypi.org/simple, https://us-python.pkg.dev/colab-wheels/public/simple/\n",
            "Requirement already satisfied: ivy-core in /usr/local/lib/python3.7/dist-packages (1.1.10)\n",
            "Requirement already satisfied: psutil in /usr/local/lib/python3.7/dist-packages (from ivy-core) (5.4.8)\n",
            "Requirement already satisfied: nvidia-ml-py3 in /usr/local/lib/python3.7/dist-packages (from ivy-core) (7.352.0)\n",
            "Requirement already satisfied: einops in /usr/local/lib/python3.7/dist-packages (from ivy-core) (0.4.1)\n",
            "Requirement already satisfied: termcolor in /usr/local/lib/python3.7/dist-packages (from ivy-core) (1.1.0)\n",
            "Requirement already satisfied: numpy in /usr/local/lib/python3.7/dist-packages (from ivy-core) (1.21.6)\n"
          ]
        }
      ],
      "source": [
        "!pip install ivy-core"
      ]
    },
    {
      "cell_type": "code",
      "source": [
        "import ivy"
      ],
      "metadata": {
        "id": "YRC6cvn2DdHA"
      },
      "execution_count": 3,
      "outputs": []
    },
    {
      "cell_type": "code",
      "source": [
        "def adjoint(matrix, name=None):\n",
        "  matrix = ivy.Array.matrix_transpose(matrix, name='matrix')\n",
        "  return ivy.adjoint(matrix, conjugate=True)"
      ],
      "metadata": {
        "id": "0viRdyuuD73r"
      },
      "execution_count": 4,
      "outputs": []
    }
  ]
}