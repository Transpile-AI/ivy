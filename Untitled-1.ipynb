{
 "cells": [
  {
   "cell_type": "code",
   "execution_count": null,
   "metadata": {},
   "outputs": [],
   "source": [
    "import numpy as np\n",
    "\n",
    "import ivy\n",
    "import ivy.functional.frontends.jax as jax_front\n",
    "import ivy.functional.frontends.numpy as np_front"
   ]
  },
  {
   "cell_type": "code",
   "execution_count": null,
   "metadata": {},
   "outputs": [],
   "source": [
    "import importlib\n",
    "importlib.import_module('paddle')"
   ]
  },
  {
   "cell_type": "code",
   "execution_count": null,
   "metadata": {},
   "outputs": [],
   "source": [
    "E           ivy.utils.exceptions.IvyIndexError: torch: dct: IndexError: tuple index out of range\n",
    "E           Falsifying example: test_dct(\n",
    "E               backend_fw=<module 'ivy.functional.backends.torch' from '/workspaces/ivy/ivy/functional/backends/torch/__init__.py'>,\n",
    "E               on_device='cpu',\n",
    "E               dtype_x_and_args=(['int32'],\n",
    "E                [array([0, 0], dtype=int32)],\n",
    "E                1,\n",
    "E                None,\n",
    "E                1,\n",
    "E                None),\n",
    "E               ground_truth_backend='tensorflow',\n",
    "E               fn_name='dct',\n",
    "E               test_flags=FunctionTestFlags(\n",
    "E                   num_positional_args=1,\n",
    "E                   with_out=False,\n",
    "E                   instance_method=False,\n",
    "E                   test_gradients=False,\n",
    "E                   test_compile=None,\n",
    "E                   as_variable=[False],\n",
    "E                   native_arrays=[False],\n",
    "E                   container=[False],\n",
    "E               ),\n",
    "E           )"
   ]
  },
  {
   "cell_type": "code",
   "execution_count": null,
   "metadata": {},
   "outputs": [],
   "source": []
  }
 ],
 "metadata": {
  "kernelspec": {
   "display_name": "multienv",
   "language": "python",
   "name": "python3"
  },
  "language_info": {
   "codemirror_mode": {
    "name": "ipython",
    "version": 3
   },
   "file_extension": ".py",
   "mimetype": "text/x-python",
   "name": "python",
   "nbconvert_exporter": "python",
   "pygments_lexer": "ipython3",
   "version": "3.8.10"
  },
  "orig_nbformat": 4
 },
 "nbformat": 4,
 "nbformat_minor": 2
}
