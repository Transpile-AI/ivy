{
 "cells": [
  {
   "cell_type": "code",
   "execution_count": 3,
   "metadata": {},
   "outputs": [],
   "source": [
    "import ivy\n",
    "import numpy as np\n",
    "import torch "
   ]
  },
  {
   "cell_type": "code",
   "execution_count": 4,
   "metadata": {},
   "outputs": [
    {
     "name": "stdout",
     "output_type": "stream",
     "text": [
      "add() takes from 2 to 3 positional arguments but 1 were given\n"
     ]
    }
   ],
   "source": [
    "try:\n",
    "    np.add(1)\n",
    "except Exception as e:\n",
    "    print(e)"
   ]
  },
  {
   "cell_type": "code",
   "execution_count": 5,
   "metadata": {},
   "outputs": [
    {
     "ename": "TypeError",
     "evalue": "add() takes from 2 to 3 positional arguments but 1 were given",
     "output_type": "error",
     "traceback": [
      "\u001b[0;31m---------------------------------------------------------------------------\u001b[0m",
      "\u001b[0;31mTypeError\u001b[0m                                 Traceback (most recent call last)",
      "Cell \u001b[0;32mIn[5], line 1\u001b[0m\n\u001b[0;32m----> 1\u001b[0m np\u001b[39m.\u001b[39;49madd(\u001b[39m1\u001b[39;49m)\n",
      "\u001b[0;31mTypeError\u001b[0m: add() takes from 2 to 3 positional arguments but 1 were given"
     ]
    }
   ],
   "source": [
    "np.add(1)"
   ]
  },
  {
   "cell_type": "code",
   "execution_count": 2,
   "metadata": {},
   "outputs": [
    {
     "name": "stdout",
     "output_type": "stream",
     "text": [
      "numpy: add:   File \"/workspaces/ivy/ivy/utils/exceptions.py\", line 224, in _handle_exceptions\n",
      "    return fn(*args, **kwargs)\n",
      "  File \"/workspaces/ivy/ivy/func_wrapper.py\", line 972, in _handle_nestable\n",
      "    return fn(*args, **kwargs)\n",
      "  File \"/workspaces/ivy/ivy/func_wrapper.py\", line 864, in _handle_out_argument\n",
      "    return fn(*args, out=out, **kwargs)\n",
      "  File \"/workspaces/ivy/ivy/func_wrapper.py\", line 546, in _outputs_to_ivy_arrays\n",
      "    ret = fn(*args, **kwargs)\n",
      "  File \"/workspaces/ivy/ivy/func_wrapper.py\", line 440, in _inputs_to_native_arrays\n",
      "    return fn(*new_args, **new_kwargs)\n",
      "  File \"/workspaces/ivy/ivy/func_wrapper.py\", line 357, in _handle_array_function\n",
      "    return fn(*args, **kwargs)\n",
      "During the handling of the above exception, another exception occurred:\n",
      " add() missing 1 required positional argument: 'x2'\n"
     ]
    }
   ],
   "source": [
    "try:\n",
    "  ivy.add(1)\n",
    "except Exception as e:\n",
    "  print(e)"
   ]
  },
  {
   "cell_type": "code",
   "execution_count": 6,
   "metadata": {},
   "outputs": [
    {
     "ename": "IvyBackendException",
     "evalue": "numpy: add:   File \"/workspaces/ivy/ivy/utils/exceptions.py\", line 224, in _handle_exceptions\n    return fn(*args, **kwargs)\n  File \"/workspaces/ivy/ivy/func_wrapper.py\", line 972, in _handle_nestable\n    return fn(*args, **kwargs)\n  File \"/workspaces/ivy/ivy/func_wrapper.py\", line 864, in _handle_out_argument\n    return fn(*args, out=out, **kwargs)\n  File \"/workspaces/ivy/ivy/func_wrapper.py\", line 546, in _outputs_to_ivy_arrays\n    ret = fn(*args, **kwargs)\n  File \"/workspaces/ivy/ivy/func_wrapper.py\", line 440, in _inputs_to_native_arrays\n    return fn(*new_args, **new_kwargs)\n  File \"/workspaces/ivy/ivy/func_wrapper.py\", line 357, in _handle_array_function\n    return fn(*args, **kwargs)\nDuring the handling of the above exception, another exception occurred:\n add() missing 1 required positional argument: 'x2'",
     "output_type": "error",
     "traceback": [
      "\u001b[0;31m---------------------------------------------------------------------------\u001b[0m",
      "\u001b[0;31mTypeError\u001b[0m                                 Traceback (most recent call last)",
      "File \u001b[0;32m/workspaces/ivy/ivy/utils/exceptions.py:224\u001b[0m, in \u001b[0;36mhandle_exceptions.<locals>._handle_exceptions\u001b[0;34m(*args, **kwargs)\u001b[0m\n\u001b[1;32m    223\u001b[0m \u001b[39mtry\u001b[39;00m:\n\u001b[0;32m--> 224\u001b[0m     \u001b[39mreturn\u001b[39;00m fn(\u001b[39m*\u001b[39;49margs, \u001b[39m*\u001b[39;49m\u001b[39m*\u001b[39;49mkwargs)\n\u001b[1;32m    225\u001b[0m \u001b[39m# Not to rethrow as IvyBackendException\u001b[39;00m\n",
      "File \u001b[0;32m/workspaces/ivy/ivy/func_wrapper.py:972\u001b[0m, in \u001b[0;36mhandle_nestable.<locals>._handle_nestable\u001b[0;34m(*args, **kwargs)\u001b[0m\n\u001b[1;32m    970\u001b[0m \u001b[39m# if the passed arguments does not contain a container, the function using\u001b[39;00m\n\u001b[1;32m    971\u001b[0m \u001b[39m# the passed arguments, returning an ivy or a native array.\u001b[39;00m\n\u001b[0;32m--> 972\u001b[0m \u001b[39mreturn\u001b[39;00m fn(\u001b[39m*\u001b[39;49margs, \u001b[39m*\u001b[39;49m\u001b[39m*\u001b[39;49mkwargs)\n",
      "File \u001b[0;32m/workspaces/ivy/ivy/func_wrapper.py:864\u001b[0m, in \u001b[0;36mhandle_out_argument.<locals>._handle_out_argument\u001b[0;34m(out, *args, **kwargs)\u001b[0m\n\u001b[1;32m    863\u001b[0m \u001b[39mif\u001b[39;00m out \u001b[39mis\u001b[39;00m \u001b[39mNone\u001b[39;00m:\n\u001b[0;32m--> 864\u001b[0m     \u001b[39mreturn\u001b[39;00m fn(\u001b[39m*\u001b[39;49margs, out\u001b[39m=\u001b[39;49mout, \u001b[39m*\u001b[39;49m\u001b[39m*\u001b[39;49mkwargs)\n\u001b[1;32m    865\u001b[0m \u001b[39mif\u001b[39;00m ivy\u001b[39m.\u001b[39mgradients\u001b[39m.\u001b[39m_is_variable(out):\n",
      "File \u001b[0;32m/workspaces/ivy/ivy/func_wrapper.py:546\u001b[0m, in \u001b[0;36moutputs_to_ivy_arrays.<locals>._outputs_to_ivy_arrays\u001b[0;34m(*args, **kwargs)\u001b[0m\n\u001b[1;32m    545\u001b[0m \u001b[39m# call unmodified function\u001b[39;00m\n\u001b[0;32m--> 546\u001b[0m ret \u001b[39m=\u001b[39m fn(\u001b[39m*\u001b[39;49margs, \u001b[39m*\u001b[39;49m\u001b[39m*\u001b[39;49mkwargs)\n\u001b[1;32m    547\u001b[0m \u001b[39m# convert all arrays in the return to `ivy.Array` instances\u001b[39;00m\n",
      "File \u001b[0;32m/workspaces/ivy/ivy/func_wrapper.py:440\u001b[0m, in \u001b[0;36minputs_to_native_arrays.<locals>._inputs_to_native_arrays\u001b[0;34m(*args, **kwargs)\u001b[0m\n\u001b[1;32m    439\u001b[0m     new_kwargs[\u001b[39m\"\u001b[39m\u001b[39mout\u001b[39m\u001b[39m\"\u001b[39m] \u001b[39m=\u001b[39m out\n\u001b[0;32m--> 440\u001b[0m \u001b[39mreturn\u001b[39;00m fn(\u001b[39m*\u001b[39;49mnew_args, \u001b[39m*\u001b[39;49m\u001b[39m*\u001b[39;49mnew_kwargs)\n",
      "File \u001b[0;32m/workspaces/ivy/ivy/func_wrapper.py:357\u001b[0m, in \u001b[0;36mhandle_array_function.<locals>._handle_array_function\u001b[0;34m(*args, **kwargs)\u001b[0m\n\u001b[1;32m    356\u001b[0m     \u001b[39mreturn\u001b[39;00m value\n\u001b[0;32m--> 357\u001b[0m \u001b[39mreturn\u001b[39;00m fn(\u001b[39m*\u001b[39;49margs, \u001b[39m*\u001b[39;49m\u001b[39m*\u001b[39;49mkwargs)\n",
      "\u001b[0;31mTypeError\u001b[0m: add() missing 1 required positional argument: 'x2'",
      "\nDuring handling of the above exception, another exception occurred:\n",
      "\u001b[0;31mIvyBackendException\u001b[0m                       Traceback (most recent call last)",
      "Cell \u001b[0;32mIn[6], line 1\u001b[0m\n\u001b[0;32m----> 1\u001b[0m ivy\u001b[39m.\u001b[39;49madd(\u001b[39m1\u001b[39;49m)\n",
      "File \u001b[0;32m/workspaces/ivy/ivy/utils/exceptions.py:282\u001b[0m, in \u001b[0;36mhandle_exceptions.<locals>._handle_exceptions\u001b[0;34m(*args, **kwargs)\u001b[0m\n\u001b[1;32m    280\u001b[0m buffer \u001b[39m=\u001b[39m io\u001b[39m.\u001b[39mStringIO()\n\u001b[1;32m    281\u001b[0m \u001b[39m# print('Is notebook: ', is_notebook())\u001b[39;00m\n\u001b[0;32m--> 282\u001b[0m \u001b[39mraise\u001b[39;00m ivy\u001b[39m.\u001b[39mutils\u001b[39m.\u001b[39mexceptions\u001b[39m.\u001b[39mIvyBackendException(\n\u001b[1;32m    283\u001b[0m     fn\u001b[39m.\u001b[39m\u001b[39m__name__\u001b[39m, value \u001b[39m+\u001b[39m \u001b[39m\"\u001b[39m\u001b[39m \u001b[39m\u001b[39m\"\u001b[39m \u001b[39m+\u001b[39m \u001b[39mstr\u001b[39m(e), include_backend\u001b[39m=\u001b[39m\u001b[39mTrue\u001b[39;00m\n\u001b[1;32m    284\u001b[0m )\n",
      "\u001b[0;31mIvyBackendException\u001b[0m: numpy: add:   File \"/workspaces/ivy/ivy/utils/exceptions.py\", line 224, in _handle_exceptions\n    return fn(*args, **kwargs)\n  File \"/workspaces/ivy/ivy/func_wrapper.py\", line 972, in _handle_nestable\n    return fn(*args, **kwargs)\n  File \"/workspaces/ivy/ivy/func_wrapper.py\", line 864, in _handle_out_argument\n    return fn(*args, out=out, **kwargs)\n  File \"/workspaces/ivy/ivy/func_wrapper.py\", line 546, in _outputs_to_ivy_arrays\n    ret = fn(*args, **kwargs)\n  File \"/workspaces/ivy/ivy/func_wrapper.py\", line 440, in _inputs_to_native_arrays\n    return fn(*new_args, **new_kwargs)\n  File \"/workspaces/ivy/ivy/func_wrapper.py\", line 357, in _handle_array_function\n    return fn(*args, **kwargs)\nDuring the handling of the above exception, another exception occurred:\n add() missing 1 required positional argument: 'x2'"
     ]
    }
   ],
   "source": [
    "ivy.add(1)"
   ]
  },
  {
   "cell_type": "code",
   "execution_count": 13,
   "metadata": {},
   "outputs": [],
   "source": [
    "import numpy as np"
   ]
  },
  {
   "cell_type": "code",
   "execution_count": 14,
   "metadata": {},
   "outputs": [
    {
     "ename": "TypeError",
     "evalue": "add() takes from 2 to 3 positional arguments but 1 were given",
     "output_type": "error",
     "traceback": [
      "\u001b[0;31m---------------------------------------------------------------------------\u001b[0m",
      "\u001b[0;31mTypeError\u001b[0m                                 Traceback (most recent call last)",
      "Cell \u001b[0;32mIn[14], line 1\u001b[0m\n\u001b[0;32m----> 1\u001b[0m np\u001b[39m.\u001b[39;49madd(\u001b[39m1\u001b[39;49m)\n",
      "\u001b[0;31mTypeError\u001b[0m: add() takes from 2 to 3 positional arguments but 1 were given"
     ]
    }
   ],
   "source": [
    "np.add(1)"
   ]
  },
  {
   "cell_type": "code",
   "execution_count": 7,
   "metadata": {},
   "outputs": [
    {
     "ename": "KeyboardInterrupt",
     "evalue": "",
     "output_type": "error",
     "traceback": [
      "\u001b[0;31m---------------------------------------------------------------------------\u001b[0m",
      "\u001b[0;31mKeyboardInterrupt\u001b[0m                         Traceback (most recent call last)",
      "Cell \u001b[0;32mIn[7], line 1\u001b[0m\n\u001b[0;32m----> 1\u001b[0m \u001b[39mimport\u001b[39;00m \u001b[39mtorch\u001b[39;00m\n",
      "File \u001b[0;32m~/.local/lib/python3.10/site-packages/torch/__init__.py:229\u001b[0m\n\u001b[1;32m    227\u001b[0m     \u001b[39mif\u001b[39;00m USE_GLOBAL_DEPS:\n\u001b[1;32m    228\u001b[0m         _load_global_deps()\n\u001b[0;32m--> 229\u001b[0m     \u001b[39mfrom\u001b[39;00m \u001b[39mtorch\u001b[39;00m\u001b[39m.\u001b[39;00m\u001b[39m_C\u001b[39;00m \u001b[39mimport\u001b[39;00m \u001b[39m*\u001b[39m  \u001b[39m# noqa: F403\u001b[39;00m\n\u001b[1;32m    231\u001b[0m \u001b[39m# Appease the type checker; ordinarily this binding is inserted by the\u001b[39;00m\n\u001b[1;32m    232\u001b[0m \u001b[39m# torch._C module initialization code in C\u001b[39;00m\n\u001b[1;32m    233\u001b[0m \u001b[39mif\u001b[39;00m TYPE_CHECKING:\n",
      "\u001b[0;31mKeyboardInterrupt\u001b[0m: "
     ]
    }
   ],
   "source": [
    "import torch"
   ]
  },
  {
   "cell_type": "code",
   "execution_count": 3,
   "metadata": {},
   "outputs": [
    {
     "ename": "AttributeError",
     "evalue": "'list' object has no attribute 'tb_frame'",
     "output_type": "error",
     "traceback": [
      "\u001b[0;31m---------------------------------------------------------------------------\u001b[0m",
      "\u001b[0;31mZeroDivisionError\u001b[0m                         Traceback (most recent call last)",
      "Cell \u001b[0;32mIn[3], line 7\u001b[0m, in \u001b[0;36mcustom_exception\u001b[0;34m()\u001b[0m\n\u001b[1;32m      5\u001b[0m \u001b[39mtry\u001b[39;00m:\n\u001b[1;32m      6\u001b[0m     \u001b[39m# Some code that may raise an exception\u001b[39;00m\n\u001b[0;32m----> 7\u001b[0m     \u001b[39m1\u001b[39;49m \u001b[39m/\u001b[39;49m \u001b[39m0\u001b[39;49m\n\u001b[1;32m      8\u001b[0m \u001b[39mexcept\u001b[39;00m \u001b[39mZeroDivisionError\u001b[39;00m \u001b[39mas\u001b[39;00m e:\n\u001b[1;32m      9\u001b[0m     \u001b[39m# Get the current exception information\u001b[39;00m\n",
      "\u001b[0;31mZeroDivisionError\u001b[0m: division by zero",
      "\nDuring handling of the above exception, another exception occurred:\n",
      "\u001b[0;31mAttributeError\u001b[0m                            Traceback (most recent call last)",
      "Cell \u001b[0;32mIn[3], line 28\u001b[0m\n\u001b[1;32m     25\u001b[0m         \u001b[39mraise\u001b[39;00m exc_type(exc_value)\u001b[39m.\u001b[39mwith_traceback(new_traceback)\n\u001b[1;32m     27\u001b[0m \u001b[39mtry\u001b[39;00m:\n\u001b[0;32m---> 28\u001b[0m     custom_exception()\n\u001b[1;32m     29\u001b[0m \u001b[39mexcept\u001b[39;00m \u001b[39mZeroDivisionError\u001b[39;00m \u001b[39mas\u001b[39;00m e:\n\u001b[1;32m     30\u001b[0m     \u001b[39m# Handle the exception\u001b[39;00m\n\u001b[1;32m     31\u001b[0m     \u001b[39m# print(\"Exception caught:\", e)\u001b[39;00m\n\u001b[1;32m     32\u001b[0m     \u001b[39m# traceback.print_tb(e.__traceback__)\u001b[39;00m\n\u001b[1;32m     33\u001b[0m     \u001b[39mpass\u001b[39;00m\n",
      "Cell \u001b[0;32mIn[3], line 20\u001b[0m, in \u001b[0;36mcustom_exception\u001b[0;34m()\u001b[0m\n\u001b[1;32m     17\u001b[0m modified_traceback\u001b[39m.\u001b[39mappend(\u001b[39m\"\u001b[39m\u001b[39mCustom additional line\u001b[39m\u001b[39m\\n\u001b[39;00m\u001b[39m\"\u001b[39m)\n\u001b[1;32m     19\u001b[0m \u001b[39m# Create a new traceback object\u001b[39;00m\n\u001b[0;32m---> 20\u001b[0m new_traceback \u001b[39m=\u001b[39m traceback\u001b[39m.\u001b[39;49mTracebackException(\n\u001b[1;32m     21\u001b[0m     exc_type, exc_value, modified_traceback\n\u001b[1;32m     22\u001b[0m )\u001b[39m.\u001b[39mexc_traceback\n\u001b[1;32m     24\u001b[0m \u001b[39m# Raise a customized exception with the new traceback\u001b[39;00m\n\u001b[1;32m     25\u001b[0m \u001b[39mraise\u001b[39;00m exc_type(exc_value)\u001b[39m.\u001b[39mwith_traceback(new_traceback)\n",
      "File \u001b[0;32m~/.python/current/lib/python3.10/traceback.py:502\u001b[0m, in \u001b[0;36mTracebackException.__init__\u001b[0;34m(self, exc_type, exc_value, exc_traceback, limit, lookup_lines, capture_locals, compact, _seen)\u001b[0m\n\u001b[1;32m    499\u001b[0m _seen\u001b[39m.\u001b[39madd(\u001b[39mid\u001b[39m(exc_value))\n\u001b[1;32m    501\u001b[0m \u001b[39m# TODO: locals.\u001b[39;00m\n\u001b[0;32m--> 502\u001b[0m \u001b[39mself\u001b[39m\u001b[39m.\u001b[39mstack \u001b[39m=\u001b[39m StackSummary\u001b[39m.\u001b[39;49mextract(\n\u001b[1;32m    503\u001b[0m     walk_tb(exc_traceback), limit\u001b[39m=\u001b[39;49mlimit, lookup_lines\u001b[39m=\u001b[39;49mlookup_lines,\n\u001b[1;32m    504\u001b[0m     capture_locals\u001b[39m=\u001b[39;49mcapture_locals)\n\u001b[1;32m    505\u001b[0m \u001b[39mself\u001b[39m\u001b[39m.\u001b[39mexc_type \u001b[39m=\u001b[39m exc_type\n\u001b[1;32m    506\u001b[0m \u001b[39m# Capture now to permit freeing resources: only complication is in the\u001b[39;00m\n\u001b[1;32m    507\u001b[0m \u001b[39m# unofficial API _format_final_exc_line\u001b[39;00m\n",
      "File \u001b[0;32m~/.python/current/lib/python3.10/traceback.py:364\u001b[0m, in \u001b[0;36mStackSummary.extract\u001b[0;34m(klass, frame_gen, limit, lookup_lines, capture_locals)\u001b[0m\n\u001b[1;32m    362\u001b[0m result \u001b[39m=\u001b[39m klass()\n\u001b[1;32m    363\u001b[0m fnames \u001b[39m=\u001b[39m \u001b[39mset\u001b[39m()\n\u001b[0;32m--> 364\u001b[0m \u001b[39mfor\u001b[39;00m f, lineno \u001b[39min\u001b[39;00m frame_gen:\n\u001b[1;32m    365\u001b[0m     co \u001b[39m=\u001b[39m f\u001b[39m.\u001b[39mf_code\n\u001b[1;32m    366\u001b[0m     filename \u001b[39m=\u001b[39m co\u001b[39m.\u001b[39mco_filename\n",
      "File \u001b[0;32m~/.python/current/lib/python3.10/traceback.py:329\u001b[0m, in \u001b[0;36mwalk_tb\u001b[0;34m(tb)\u001b[0m\n\u001b[1;32m    323\u001b[0m \u001b[39m\u001b[39m\u001b[39m\"\"\"Walk a traceback yielding the frame and line number for each frame.\u001b[39;00m\n\u001b[1;32m    324\u001b[0m \n\u001b[1;32m    325\u001b[0m \u001b[39mThis will follow tb.tb_next (and thus is in the opposite order to\u001b[39;00m\n\u001b[1;32m    326\u001b[0m \u001b[39mwalk_stack). Usually used with StackSummary.extract.\u001b[39;00m\n\u001b[1;32m    327\u001b[0m \u001b[39m\"\"\"\u001b[39;00m\n\u001b[1;32m    328\u001b[0m \u001b[39mwhile\u001b[39;00m tb \u001b[39mis\u001b[39;00m \u001b[39mnot\u001b[39;00m \u001b[39mNone\u001b[39;00m:\n\u001b[0;32m--> 329\u001b[0m     \u001b[39myield\u001b[39;00m tb\u001b[39m.\u001b[39;49mtb_frame, tb\u001b[39m.\u001b[39mtb_lineno\n\u001b[1;32m    330\u001b[0m     tb \u001b[39m=\u001b[39m tb\u001b[39m.\u001b[39mtb_next\n",
      "\u001b[0;31mAttributeError\u001b[0m: 'list' object has no attribute 'tb_frame'"
     ]
    }
   ],
   "source": [
    "import traceback\n",
    "import sys\n",
    "\n",
    "def custom_exception():\n",
    "    try:\n",
    "        # Some code that may raise an exception\n",
    "        1 / 0\n",
    "    except ZeroDivisionError as e:\n",
    "        # Get the current exception information\n",
    "        exc_type, exc_value, exc_traceback = sys.exc_info()\n",
    "\n",
    "        # Capture the original traceback\n",
    "        original_traceback = exc_traceback\n",
    "\n",
    "        # Create a new traceback with an additional line\n",
    "        modified_traceback = traceback.format_tb(original_traceback)\n",
    "        modified_traceback.append(\"Custom additional line\\n\")\n",
    "\n",
    "        # Create a new traceback object\n",
    "        new_traceback = traceback.TracebackException(\n",
    "            exc_type, exc_value, modified_traceback\n",
    "        ).exc_traceback\n",
    "\n",
    "        # Raise a customized exception with the new traceback\n",
    "        raise exc_type(exc_value).with_traceback(new_traceback)\n",
    "\n",
    "try:\n",
    "    custom_exception()\n",
    "except ZeroDivisionError as e:\n",
    "    # Handle the exception\n",
    "    # print(\"Exception caught:\", e)\n",
    "    # traceback.print_tb(e.__traceback__)\n",
    "    pass\n"
   ]
  },
  {
   "cell_type": "code",
   "execution_count": 4,
   "metadata": {},
   "outputs": [
    {
     "ename": "TypeError",
     "evalue": "add() takes from 2 to 3 positional arguments but 1 were given",
     "output_type": "error",
     "traceback": [
      "\u001b[0;31m---------------------------------------------------------------------------\u001b[0m",
      "\u001b[0;31mTypeError\u001b[0m                                 Traceback (most recent call last)",
      "Cell \u001b[0;32mIn[4], line 2\u001b[0m\n\u001b[1;32m      1\u001b[0m \u001b[39mimport\u001b[39;00m \u001b[39mnumpy\u001b[39;00m \u001b[39mas\u001b[39;00m \u001b[39mnp\u001b[39;00m\n\u001b[0;32m----> 2\u001b[0m np\u001b[39m.\u001b[39;49madd(\u001b[39m1\u001b[39;49m)\n",
      "\u001b[0;31mTypeError\u001b[0m: add() takes from 2 to 3 positional arguments but 1 were given"
     ]
    }
   ],
   "source": [
    "import numpy as np\n",
    "np.add(1)"
   ]
  },
  {
   "cell_type": "code",
   "execution_count": 5,
   "metadata": {},
   "outputs": [
    {
     "ename": "IvyBackendException",
     "evalue": "numpy: add:   File \"/workspaces/ivy/ivy/utils/exceptions.py\", line 224, in _handle_exceptions\n    return fn(*args, **kwargs)\n  File \"/workspaces/ivy/ivy/func_wrapper.py\", line 972, in _handle_nestable\n    return fn(*args, **kwargs)\n  File \"/workspaces/ivy/ivy/func_wrapper.py\", line 864, in _handle_out_argument\n    return fn(*args, out=out, **kwargs)\n  File \"/workspaces/ivy/ivy/func_wrapper.py\", line 546, in _outputs_to_ivy_arrays\n    ret = fn(*args, **kwargs)\n  File \"/workspaces/ivy/ivy/func_wrapper.py\", line 440, in _inputs_to_native_arrays\n    return fn(*new_args, **new_kwargs)\n  File \"/workspaces/ivy/ivy/func_wrapper.py\", line 357, in _handle_array_function\n    return fn(*args, **kwargs)\nDuring the handling of the above exception, another exception occurred:\n add() missing 1 required positional argument: 'x2'",
     "output_type": "error",
     "traceback": [
      "\u001b[0;31m---------------------------------------------------------------------------\u001b[0m",
      "\u001b[0;31mTypeError\u001b[0m                                 Traceback (most recent call last)",
      "File \u001b[0;32m/workspaces/ivy/ivy/utils/exceptions.py:224\u001b[0m, in \u001b[0;36mhandle_exceptions.<locals>._handle_exceptions\u001b[0;34m(*args, **kwargs)\u001b[0m\n\u001b[1;32m    223\u001b[0m \u001b[39mtry\u001b[39;00m:\n\u001b[0;32m--> 224\u001b[0m     \u001b[39mreturn\u001b[39;00m fn(\u001b[39m*\u001b[39;49margs, \u001b[39m*\u001b[39;49m\u001b[39m*\u001b[39;49mkwargs)\n\u001b[1;32m    225\u001b[0m \u001b[39m# Not to rethrow as IvyBackendException\u001b[39;00m\n",
      "File \u001b[0;32m/workspaces/ivy/ivy/func_wrapper.py:972\u001b[0m, in \u001b[0;36mhandle_nestable.<locals>._handle_nestable\u001b[0;34m(*args, **kwargs)\u001b[0m\n\u001b[1;32m    970\u001b[0m \u001b[39m# if the passed arguments does not contain a container, the function using\u001b[39;00m\n\u001b[1;32m    971\u001b[0m \u001b[39m# the passed arguments, returning an ivy or a native array.\u001b[39;00m\n\u001b[0;32m--> 972\u001b[0m \u001b[39mreturn\u001b[39;00m fn(\u001b[39m*\u001b[39;49margs, \u001b[39m*\u001b[39;49m\u001b[39m*\u001b[39;49mkwargs)\n",
      "File \u001b[0;32m/workspaces/ivy/ivy/func_wrapper.py:864\u001b[0m, in \u001b[0;36mhandle_out_argument.<locals>._handle_out_argument\u001b[0;34m(out, *args, **kwargs)\u001b[0m\n\u001b[1;32m    863\u001b[0m \u001b[39mif\u001b[39;00m out \u001b[39mis\u001b[39;00m \u001b[39mNone\u001b[39;00m:\n\u001b[0;32m--> 864\u001b[0m     \u001b[39mreturn\u001b[39;00m fn(\u001b[39m*\u001b[39;49margs, out\u001b[39m=\u001b[39;49mout, \u001b[39m*\u001b[39;49m\u001b[39m*\u001b[39;49mkwargs)\n\u001b[1;32m    865\u001b[0m \u001b[39mif\u001b[39;00m ivy\u001b[39m.\u001b[39mgradients\u001b[39m.\u001b[39m_is_variable(out):\n",
      "File \u001b[0;32m/workspaces/ivy/ivy/func_wrapper.py:546\u001b[0m, in \u001b[0;36moutputs_to_ivy_arrays.<locals>._outputs_to_ivy_arrays\u001b[0;34m(*args, **kwargs)\u001b[0m\n\u001b[1;32m    545\u001b[0m \u001b[39m# call unmodified function\u001b[39;00m\n\u001b[0;32m--> 546\u001b[0m ret \u001b[39m=\u001b[39m fn(\u001b[39m*\u001b[39;49margs, \u001b[39m*\u001b[39;49m\u001b[39m*\u001b[39;49mkwargs)\n\u001b[1;32m    547\u001b[0m \u001b[39m# convert all arrays in the return to `ivy.Array` instances\u001b[39;00m\n",
      "File \u001b[0;32m/workspaces/ivy/ivy/func_wrapper.py:440\u001b[0m, in \u001b[0;36minputs_to_native_arrays.<locals>._inputs_to_native_arrays\u001b[0;34m(*args, **kwargs)\u001b[0m\n\u001b[1;32m    439\u001b[0m     new_kwargs[\u001b[39m\"\u001b[39m\u001b[39mout\u001b[39m\u001b[39m\"\u001b[39m] \u001b[39m=\u001b[39m out\n\u001b[0;32m--> 440\u001b[0m \u001b[39mreturn\u001b[39;00m fn(\u001b[39m*\u001b[39;49mnew_args, \u001b[39m*\u001b[39;49m\u001b[39m*\u001b[39;49mnew_kwargs)\n",
      "File \u001b[0;32m/workspaces/ivy/ivy/func_wrapper.py:357\u001b[0m, in \u001b[0;36mhandle_array_function.<locals>._handle_array_function\u001b[0;34m(*args, **kwargs)\u001b[0m\n\u001b[1;32m    356\u001b[0m     \u001b[39mreturn\u001b[39;00m value\n\u001b[0;32m--> 357\u001b[0m \u001b[39mreturn\u001b[39;00m fn(\u001b[39m*\u001b[39;49margs, \u001b[39m*\u001b[39;49m\u001b[39m*\u001b[39;49mkwargs)\n",
      "\u001b[0;31mTypeError\u001b[0m: add() missing 1 required positional argument: 'x2'",
      "\nDuring handling of the above exception, another exception occurred:\n",
      "\u001b[0;31mIvyBackendException\u001b[0m                       Traceback (most recent call last)",
      "Cell \u001b[0;32mIn[5], line 2\u001b[0m\n\u001b[1;32m      1\u001b[0m \u001b[39mimport\u001b[39;00m \u001b[39mivy\u001b[39;00m\n\u001b[0;32m----> 2\u001b[0m ivy\u001b[39m.\u001b[39;49madd(\u001b[39m1\u001b[39;49m)\n",
      "File \u001b[0;32m/workspaces/ivy/ivy/utils/exceptions.py:282\u001b[0m, in \u001b[0;36mhandle_exceptions.<locals>._handle_exceptions\u001b[0;34m(*args, **kwargs)\u001b[0m\n\u001b[1;32m    280\u001b[0m buffer \u001b[39m=\u001b[39m io\u001b[39m.\u001b[39mStringIO()\n\u001b[1;32m    281\u001b[0m \u001b[39m# print('Is notebook: ', is_notebook())\u001b[39;00m\n\u001b[0;32m--> 282\u001b[0m \u001b[39mraise\u001b[39;00m ivy\u001b[39m.\u001b[39mutils\u001b[39m.\u001b[39mexceptions\u001b[39m.\u001b[39mIvyBackendException(\n\u001b[1;32m    283\u001b[0m     fn\u001b[39m.\u001b[39m\u001b[39m__name__\u001b[39m, value \u001b[39m+\u001b[39m \u001b[39m\"\u001b[39m\u001b[39m \u001b[39m\u001b[39m\"\u001b[39m \u001b[39m+\u001b[39m \u001b[39mstr\u001b[39m(e), include_backend\u001b[39m=\u001b[39m\u001b[39mTrue\u001b[39;00m\n\u001b[1;32m    284\u001b[0m )\n",
      "\u001b[0;31mIvyBackendException\u001b[0m: numpy: add:   File \"/workspaces/ivy/ivy/utils/exceptions.py\", line 224, in _handle_exceptions\n    return fn(*args, **kwargs)\n  File \"/workspaces/ivy/ivy/func_wrapper.py\", line 972, in _handle_nestable\n    return fn(*args, **kwargs)\n  File \"/workspaces/ivy/ivy/func_wrapper.py\", line 864, in _handle_out_argument\n    return fn(*args, out=out, **kwargs)\n  File \"/workspaces/ivy/ivy/func_wrapper.py\", line 546, in _outputs_to_ivy_arrays\n    ret = fn(*args, **kwargs)\n  File \"/workspaces/ivy/ivy/func_wrapper.py\", line 440, in _inputs_to_native_arrays\n    return fn(*new_args, **new_kwargs)\n  File \"/workspaces/ivy/ivy/func_wrapper.py\", line 357, in _handle_array_function\n    return fn(*args, **kwargs)\nDuring the handling of the above exception, another exception occurred:\n add() missing 1 required positional argument: 'x2'"
     ]
    }
   ],
   "source": [
    "import ivy\n",
    "ivy.add(1)"
   ]
  },
  {
   "cell_type": "code",
   "execution_count": 6,
   "metadata": {},
   "outputs": [
    {
     "name": "stdout",
     "output_type": "stream",
     "text": [
      "<frame at 0x55bd9bc80e80, file '/tmp/ipykernel_1169/1842999249.py', line 18, code custom_exception>\n"
     ]
    }
   ],
   "source": [
    "import traceback\n",
    "import sys\n",
    "\n",
    "class CustomException(Exception):\n",
    "    pass\n",
    "\n",
    "def custom_exception():\n",
    "    try:\n",
    "        # Some code that may raise an exception\n",
    "        1 / 0\n",
    "    except ZeroDivisionError as e:\n",
    "        # Get the current exception information\n",
    "        exc_type, exc_value, exc_traceback = sys.exc_info()\n",
    "\n",
    "        # Capture the original traceback\n",
    "        original_traceback = exc_traceback\n",
    "\n",
    "        print(original_traceback.tb_frame)\n",
    "        # Modify the traceback\n",
    "        # modified_traceback = traceback.extract_tb(original_traceback)\n",
    "        # modified_traceback.append(traceback.FrameSummary(\n",
    "        #     filename='<custom file>',\n",
    "        #     lineno=42,\n",
    "        #     name='<custom function>',\n",
    "        #     line='<custom line>'\n",
    "        # ))\n",
    "\n",
    "        # # Create a new traceback object with the modified frames\n",
    "        # new_traceback = traceback.format_list(modified_traceback)\n",
    "\n",
    "        # # Raise a customized exception with the new traceback\n",
    "        # raise CustomException(\"Custom exception message\") from None.with_traceback(new_traceback)\n",
    "\n",
    "# try:\n",
    "#     custom_exception()\n",
    "# except CustomException as e:\n",
    "#     # Handle the exception\n",
    "#     print(\"Exception caught:\", e)\n",
    "#     traceback.print_tb(e.__traceback__)\n",
    "custom_exception()\n"
   ]
  },
  {
   "cell_type": "code",
   "execution_count": null,
   "metadata": {},
   "outputs": [],
   "source": []
  }
 ],
 "metadata": {
  "kernelspec": {
   "display_name": "Python 3",
   "language": "python",
   "name": "python3"
  },
  "language_info": {
   "codemirror_mode": {
    "name": "ipython",
    "version": 3
   },
   "file_extension": ".py",
   "mimetype": "text/x-python",
   "name": "python",
   "nbconvert_exporter": "python",
   "pygments_lexer": "ipython3",
   "version": "3.10.8"
  },
  "orig_nbformat": 4
 },
 "nbformat": 4,
 "nbformat_minor": 2
}
