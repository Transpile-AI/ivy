{
 "cells": [
  {
   "cell_type": "code",
   "execution_count": 1,
   "metadata": {},
   "outputs": [],
   "source": [
    "import ivy"
   ]
  },
  {
   "cell_type": "code",
   "execution_count": 2,
   "metadata": {},
   "outputs": [],
   "source": [
    "# ivy.set_backend(\"torch\")"
   ]
  },
  {
   "cell_type": "code",
   "execution_count": 1,
   "metadata": {},
   "outputs": [],
   "source": [
    "import ivy.functional.frontends.torch as torch_frontend"
   ]
  },
  {
   "cell_type": "code",
   "execution_count": 2,
   "metadata": {},
   "outputs": [],
   "source": [
    "# Optionally use the context manager to ensure one of the fused kerenels is run\n",
    "query = torch_frontend.rand(32, 8, 128, 64, dtype=torch_frontend.float16, device=\"cuda\")\n",
    "key = torch_frontend.rand(32, 8, 128, 64, dtype=torch_frontend.float16, device=\"cuda\")\n",
    "value = torch_frontend.rand(32, 8, 128, 64, dtype=torch_frontend.float16, device=\"cuda\")"
   ]
  },
  {
   "cell_type": "code",
   "execution_count": null,
   "metadata": {},
   "outputs": [
    {
     "ename": "IvyBackendException",
     "evalue": "numpy: promote_types_of_torch_inputs:   File \"/home/rishab/Documents/codes/unify/ivy/ivy/utils/exceptions.py\", line 210, in _handle_exceptions\n    return fn(*args, **kwargs)\n  File \"/home/rishab/Documents/codes/unify/ivy/ivy/functional/frontends/torch/__init__.py\", line 233, in promote_types_of_torch_inputs\n    x1 = ivy.asarray(x1)\n  File \"/home/rishab/Documents/codes/unify/ivy/ivy/func_wrapper.py\", line 400, in _handle_array_like_without_promotion\n    return fn(*args, **kwargs)\n  File \"/home/rishab/Documents/codes/unify/ivy/ivy/func_wrapper.py\", line 864, in _handle_out_argument\n    return fn(*args, out=out, **kwargs)\n  File \"/home/rishab/Documents/codes/unify/ivy/ivy/func_wrapper.py\", line 357, in _handle_array_function\n    return fn(*args, **kwargs)\n  File \"/home/rishab/Documents/codes/unify/ivy/ivy/functional/ivy/creation.py\", line 393, in asarray\n    return current_backend().asarray(\n  File \"/home/rishab/Documents/codes/unify/ivy/ivy/func_wrapper.py\", line 1130, in method\n    return fn(*args, **kwargs)\n  File \"/home/rishab/Documents/codes/unify/ivy/ivy/functional/ivy/creation.py\", line 128, in _asarray_to_native_arrays_and_back\n    return to_ivy(fn(*new_args, dtype=dtype, **kwargs))\n  File \"/home/rishab/Documents/codes/unify/ivy/ivy/functional/ivy/creation.py\", line 166, in _asarray_infer_device\n    return fn(*args, device=device, **kwargs)\n  File \"/home/rishab/Documents/codes/unify/ivy/ivy/functional/ivy/creation.py\", line 69, in _asarray_handle_nestable\n    return fn(*args, **kwargs)\n  File \"/home/rishab/Documents/codes/unify/ivy/ivy/functional/ivy/creation.py\", line 177, in _inputs_to_native_shapes\n    return fn(*new_args, **kwargs)\n  File \"/home/rishab/Documents/codes/unify/ivy/ivy/functional/backends/torch/creation.py\", line 172, in asarray\n    ret = torch.as_tensor(obj, dtype=dtype)\nDuring the handling of the above exception, another exception occurred:\n as_tensor(): argument 'dtype' must be torch.dtype, not numpy.dtype[float16]",
     "output_type": "error",
     "traceback": [
      "\u001b[0;31m---------------------------------------------------------------------------\u001b[0m",
      "\u001b[0;31mTypeError\u001b[0m                                 Traceback (most recent call last)",
      "File \u001b[0;32m~/Documents/codes/unify/ivy/ivy/utils/exceptions.py:210\u001b[0m, in \u001b[0;36mhandle_exceptions.<locals>._handle_exceptions\u001b[0;34m(*args, **kwargs)\u001b[0m\n\u001b[1;32m    209\u001b[0m \u001b[39mtry\u001b[39;00m:\n\u001b[0;32m--> 210\u001b[0m     \u001b[39mreturn\u001b[39;00m fn(\u001b[39m*\u001b[39;49margs, \u001b[39m*\u001b[39;49m\u001b[39m*\u001b[39;49mkwargs)\n\u001b[1;32m    211\u001b[0m \u001b[39m# Not to rethrow as IvyBackendException\u001b[39;00m\n",
      "File \u001b[0;32m~/Documents/codes/unify/ivy/ivy/functional/frontends/torch/__init__.py:233\u001b[0m, in \u001b[0;36mpromote_types_of_torch_inputs\u001b[0;34m(x1, x2)\u001b[0m\n\u001b[1;32m    232\u001b[0m \u001b[39m# Ignore type of 0-dim arrays to mimic torch\u001b[39;00m\n\u001b[0;32m--> 233\u001b[0m x1 \u001b[39m=\u001b[39m ivy\u001b[39m.\u001b[39;49masarray(x1)\n\u001b[1;32m    234\u001b[0m x2 \u001b[39m=\u001b[39m ivy\u001b[39m.\u001b[39masarray(x2)\n",
      "File \u001b[0;32m~/Documents/codes/unify/ivy/ivy/func_wrapper.py:400\u001b[0m, in \u001b[0;36mhandle_array_like_without_promotion.<locals>._handle_array_like_without_promotion\u001b[0;34m(*args, **kwargs)\u001b[0m\n\u001b[1;32m    398\u001b[0m                 kwargs[parameter] \u001b[39m=\u001b[39m ivy\u001b[39m.\u001b[39marray(kwarg)\n\u001b[0;32m--> 400\u001b[0m \u001b[39mreturn\u001b[39;00m fn(\u001b[39m*\u001b[39;49margs, \u001b[39m*\u001b[39;49m\u001b[39m*\u001b[39;49mkwargs)\n",
      "File \u001b[0;32m~/Documents/codes/unify/ivy/ivy/func_wrapper.py:864\u001b[0m, in \u001b[0;36mhandle_out_argument.<locals>._handle_out_argument\u001b[0;34m(out, *args, **kwargs)\u001b[0m\n\u001b[1;32m    863\u001b[0m \u001b[39mif\u001b[39;00m out \u001b[39mis\u001b[39;00m \u001b[39mNone\u001b[39;00m:\n\u001b[0;32m--> 864\u001b[0m     \u001b[39mreturn\u001b[39;00m fn(\u001b[39m*\u001b[39;49margs, out\u001b[39m=\u001b[39;49mout, \u001b[39m*\u001b[39;49m\u001b[39m*\u001b[39;49mkwargs)\n\u001b[1;32m    865\u001b[0m \u001b[39mif\u001b[39;00m ivy\u001b[39m.\u001b[39mgradients\u001b[39m.\u001b[39m_is_variable(out):\n",
      "File \u001b[0;32m~/Documents/codes/unify/ivy/ivy/func_wrapper.py:357\u001b[0m, in \u001b[0;36mhandle_array_function.<locals>._handle_array_function\u001b[0;34m(*args, **kwargs)\u001b[0m\n\u001b[1;32m    356\u001b[0m     \u001b[39mreturn\u001b[39;00m value\n\u001b[0;32m--> 357\u001b[0m \u001b[39mreturn\u001b[39;00m fn(\u001b[39m*\u001b[39;49margs, \u001b[39m*\u001b[39;49m\u001b[39m*\u001b[39;49mkwargs)\n",
      "File \u001b[0;32m~/Documents/codes/unify/ivy/ivy/functional/ivy/creation.py:393\u001b[0m, in \u001b[0;36masarray\u001b[0;34m(obj, copy, dtype, device, out)\u001b[0m\n\u001b[1;32m    327\u001b[0m \u001b[39m\u001b[39m\u001b[39m\"\"\"\u001b[39;00m\n\u001b[1;32m    328\u001b[0m \u001b[39mConvert the input to an array.\u001b[39;00m\n\u001b[1;32m    329\u001b[0m \n\u001b[0;32m   (...)\u001b[0m\n\u001b[1;32m    391\u001b[0m \u001b[39minstances in place of any of the arguments.\u001b[39;00m\n\u001b[1;32m    392\u001b[0m \u001b[39m\"\"\"\u001b[39;00m\n\u001b[0;32m--> 393\u001b[0m \u001b[39mreturn\u001b[39;00m current_backend()\u001b[39m.\u001b[39;49masarray(\n\u001b[1;32m    394\u001b[0m     obj, copy\u001b[39m=\u001b[39;49mcopy, dtype\u001b[39m=\u001b[39;49mdtype, device\u001b[39m=\u001b[39;49mdevice, out\u001b[39m=\u001b[39;49mout\n\u001b[1;32m    395\u001b[0m )\n",
      "File \u001b[0;32m~/Documents/codes/unify/ivy/ivy/func_wrapper.py:1130\u001b[0m, in \u001b[0;36mcasting_modes_ops.<locals>.method\u001b[0;34m(*args, **kwargs)\u001b[0m\n\u001b[1;32m   1129\u001b[0m kwargs \u001b[39m=\u001b[39m ivy\u001b[39m.\u001b[39mnested_map(kwargs, mini_helper)\n\u001b[0;32m-> 1130\u001b[0m \u001b[39mreturn\u001b[39;00m fn(\u001b[39m*\u001b[39;49margs, \u001b[39m*\u001b[39;49m\u001b[39m*\u001b[39;49mkwargs)\n",
      "File \u001b[0;32m~/Documents/codes/unify/ivy/ivy/functional/ivy/creation.py:128\u001b[0m, in \u001b[0;36masarray_to_native_arrays_and_back.<locals>._asarray_to_native_arrays_and_back\u001b[0;34m(dtype, *args, **kwargs)\u001b[0m\n\u001b[1;32m    127\u001b[0m     dtype \u001b[39m=\u001b[39m ivy\u001b[39m.\u001b[39mdefault_dtype(dtype\u001b[39m=\u001b[39mdtype, as_native\u001b[39m=\u001b[39m\u001b[39mTrue\u001b[39;00m)\n\u001b[0;32m--> 128\u001b[0m \u001b[39mreturn\u001b[39;00m to_ivy(fn(\u001b[39m*\u001b[39;49mnew_args, dtype\u001b[39m=\u001b[39;49mdtype, \u001b[39m*\u001b[39;49m\u001b[39m*\u001b[39;49mkwargs))\n",
      "File \u001b[0;32m~/Documents/codes/unify/ivy/ivy/functional/ivy/creation.py:166\u001b[0m, in \u001b[0;36masarray_infer_device.<locals>._asarray_infer_device\u001b[0;34m(device, *args, **kwargs)\u001b[0m\n\u001b[1;32m    165\u001b[0m \u001b[39m# call the function with device provided explicitly\u001b[39;00m\n\u001b[0;32m--> 166\u001b[0m \u001b[39mreturn\u001b[39;00m fn(\u001b[39m*\u001b[39;49margs, device\u001b[39m=\u001b[39;49mdevice, \u001b[39m*\u001b[39;49m\u001b[39m*\u001b[39;49mkwargs)\n",
      "File \u001b[0;32m~/Documents/codes/unify/ivy/ivy/functional/ivy/creation.py:69\u001b[0m, in \u001b[0;36masarray_handle_nestable.<locals>._asarray_handle_nestable\u001b[0;34m(*args, **kwargs)\u001b[0m\n\u001b[1;32m     67\u001b[0m \u001b[39m# if the passed arguments does not contain a container, the function using\u001b[39;00m\n\u001b[1;32m     68\u001b[0m \u001b[39m# the passed arguments, returning an ivy or a native array.\u001b[39;00m\n\u001b[0;32m---> 69\u001b[0m \u001b[39mreturn\u001b[39;00m fn(\u001b[39m*\u001b[39;49margs, \u001b[39m*\u001b[39;49m\u001b[39m*\u001b[39;49mkwargs)\n",
      "File \u001b[0;32m~/Documents/codes/unify/ivy/ivy/functional/ivy/creation.py:177\u001b[0m, in \u001b[0;36masarray_inputs_to_native_shapes.<locals>._inputs_to_native_shapes\u001b[0;34m(*args, **kwargs)\u001b[0m\n\u001b[1;32m    176\u001b[0m new_args \u001b[39m=\u001b[39m (new_arg,) \u001b[39m+\u001b[39m args[\u001b[39m1\u001b[39m:]\n\u001b[0;32m--> 177\u001b[0m \u001b[39mreturn\u001b[39;00m fn(\u001b[39m*\u001b[39;49mnew_args, \u001b[39m*\u001b[39;49m\u001b[39m*\u001b[39;49mkwargs)\n",
      "File \u001b[0;32m~/Documents/codes/unify/ivy/ivy/functional/backends/torch/creation.py:172\u001b[0m, in \u001b[0;36masarray\u001b[0;34m(obj, copy, dtype, device, out)\u001b[0m\n\u001b[1;32m    171\u001b[0m \u001b[39melse\u001b[39;00m:\n\u001b[0;32m--> 172\u001b[0m     ret \u001b[39m=\u001b[39m torch\u001b[39m.\u001b[39;49mas_tensor(obj, dtype\u001b[39m=\u001b[39;49mdtype)\n\u001b[1;32m    173\u001b[0m     \u001b[39mreturn\u001b[39;00m ret\u001b[39m.\u001b[39mto(device) \u001b[39mif\u001b[39;00m ret\u001b[39m.\u001b[39mdevice \u001b[39m!=\u001b[39m device \u001b[39melse\u001b[39;00m ret\n",
      "\u001b[0;31mTypeError\u001b[0m: as_tensor(): argument 'dtype' must be torch.dtype, not numpy.dtype[float16]",
      "\nDuring handling of the above exception, another exception occurred:\n",
      "\u001b[0;31mIvyBackendException\u001b[0m                       Traceback (most recent call last)",
      "Cell \u001b[0;32mIn[4], line 1\u001b[0m\n\u001b[0;32m----> 1\u001b[0m torch_frontend\u001b[39m.\u001b[39;49mnn\u001b[39m.\u001b[39;49mfunctional\u001b[39m.\u001b[39;49mscaled_dot_product_attention(query, key, value)\n",
      "File \u001b[0;32m~/Documents/codes/unify/ivy/ivy/functional/frontends/torch/func_wrapper.py:87\u001b[0m, in \u001b[0;36moutputs_to_frontend_arrays.<locals>.outputs_to_frontend_arrays_torch\u001b[0;34m(*args, **kwargs)\u001b[0m\n\u001b[1;32m     85\u001b[0m     set_default_dtype \u001b[39m=\u001b[39m \u001b[39mTrue\u001b[39;00m\n\u001b[1;32m     86\u001b[0m \u001b[39mtry\u001b[39;00m:\n\u001b[0;32m---> 87\u001b[0m     ret \u001b[39m=\u001b[39m fn(\u001b[39m*\u001b[39;49margs, \u001b[39m*\u001b[39;49m\u001b[39m*\u001b[39;49mkwargs)\n\u001b[1;32m     88\u001b[0m \u001b[39mfinally\u001b[39;00m:\n\u001b[1;32m     89\u001b[0m     \u001b[39mif\u001b[39;00m set_default_dtype:\n",
      "File \u001b[0;32m~/Documents/codes/unify/ivy/ivy/functional/frontends/torch/func_wrapper.py:58\u001b[0m, in \u001b[0;36minputs_to_ivy_arrays.<locals>._inputs_to_ivy_arrays_torch\u001b[0;34m(*args, **kwargs)\u001b[0m\n\u001b[1;32m     52\u001b[0m new_args \u001b[39m=\u001b[39m ivy\u001b[39m.\u001b[39mnested_map(\n\u001b[1;32m     53\u001b[0m     args, _to_ivy_array, include_derived\u001b[39m=\u001b[39m{\u001b[39mtuple\u001b[39m: \u001b[39mTrue\u001b[39;00m}, shallow\u001b[39m=\u001b[39m\u001b[39mFalse\u001b[39;00m\n\u001b[1;32m     54\u001b[0m )\n\u001b[1;32m     55\u001b[0m new_kwargs \u001b[39m=\u001b[39m ivy\u001b[39m.\u001b[39mnested_map(\n\u001b[1;32m     56\u001b[0m     kwargs, _to_ivy_array, include_derived\u001b[39m=\u001b[39m{\u001b[39mtuple\u001b[39m: \u001b[39mTrue\u001b[39;00m}, shallow\u001b[39m=\u001b[39m\u001b[39mFalse\u001b[39;00m\n\u001b[1;32m     57\u001b[0m )\n\u001b[0;32m---> 58\u001b[0m \u001b[39mreturn\u001b[39;00m fn(\u001b[39m*\u001b[39;49mnew_args, \u001b[39m*\u001b[39;49m\u001b[39m*\u001b[39;49mnew_kwargs)\n",
      "File \u001b[0;32m~/Documents/codes/unify/ivy/ivy/functional/frontends/torch/nn/functional/non_linear_activation_functions.py:556\u001b[0m, in \u001b[0;36mscaled_dot_product_attention\u001b[0;34m(query, key, value, attn_mask, dropout_p, is_causal)\u001b[0m\n\u001b[1;32m    553\u001b[0m \u001b[39mif\u001b[39;00m attn_mask \u001b[39mis\u001b[39;00m \u001b[39mnot\u001b[39;00m \u001b[39mNone\u001b[39;00m:\n\u001b[1;32m    554\u001b[0m     attn_mask \u001b[39m=\u001b[39m  torch_frontend\u001b[39m.\u001b[39mmasked_fill(attn_mask, \u001b[39mnot\u001b[39;00m attn_mask, \u001b[39m-\u001b[39m\u001b[39mfloat\u001b[39m(\u001b[39m'\u001b[39m\u001b[39minf\u001b[39m\u001b[39m'\u001b[39m)) \u001b[39mif\u001b[39;00m attn_mask\u001b[39m.\u001b[39mdtype\u001b[39m==\u001b[39mtorch_frontend\u001b[39m.\u001b[39mbool \u001b[39melse\u001b[39;00m attn_mask\n\u001b[0;32m--> 556\u001b[0m attn_weight \u001b[39m=\u001b[39m torch_frontend\u001b[39m.\u001b[39msoftmax((torch_frontend\u001b[39m.\u001b[39;49mmatmul(query, torch_frontend\u001b[39m.\u001b[39;49mtranspose(key, \u001b[39m-\u001b[39;49m\u001b[39m2\u001b[39;49m, \u001b[39m-\u001b[39;49m\u001b[39m1\u001b[39;49m)) \u001b[39m/\u001b[39m torch_frontend\u001b[39m.\u001b[39msqrt(query\u001b[39m.\u001b[39msize(\u001b[39m-\u001b[39m\u001b[39m1\u001b[39m))), dim\u001b[39m=\u001b[39m\u001b[39m-\u001b[39m\u001b[39m1\u001b[39m)\n\u001b[1;32m    557\u001b[0m attn_weight \u001b[39m=\u001b[39m torch_frontend\u001b[39m.\u001b[39mdropout(attn_weight, dropout_p)\n\u001b[1;32m    558\u001b[0m \u001b[39mreturn\u001b[39;00m attn_weight \u001b[39m@\u001b[39m value\n",
      "File \u001b[0;32m~/Documents/codes/unify/ivy/ivy/functional/frontends/torch/func_wrapper.py:87\u001b[0m, in \u001b[0;36moutputs_to_frontend_arrays.<locals>.outputs_to_frontend_arrays_torch\u001b[0;34m(*args, **kwargs)\u001b[0m\n\u001b[1;32m     85\u001b[0m     set_default_dtype \u001b[39m=\u001b[39m \u001b[39mTrue\u001b[39;00m\n\u001b[1;32m     86\u001b[0m \u001b[39mtry\u001b[39;00m:\n\u001b[0;32m---> 87\u001b[0m     ret \u001b[39m=\u001b[39m fn(\u001b[39m*\u001b[39;49margs, \u001b[39m*\u001b[39;49m\u001b[39m*\u001b[39;49mkwargs)\n\u001b[1;32m     88\u001b[0m \u001b[39mfinally\u001b[39;00m:\n\u001b[1;32m     89\u001b[0m     \u001b[39mif\u001b[39;00m set_default_dtype:\n",
      "File \u001b[0;32m~/Documents/codes/unify/ivy/ivy/functional/frontends/torch/func_wrapper.py:58\u001b[0m, in \u001b[0;36minputs_to_ivy_arrays.<locals>._inputs_to_ivy_arrays_torch\u001b[0;34m(*args, **kwargs)\u001b[0m\n\u001b[1;32m     52\u001b[0m new_args \u001b[39m=\u001b[39m ivy\u001b[39m.\u001b[39mnested_map(\n\u001b[1;32m     53\u001b[0m     args, _to_ivy_array, include_derived\u001b[39m=\u001b[39m{\u001b[39mtuple\u001b[39m: \u001b[39mTrue\u001b[39;00m}, shallow\u001b[39m=\u001b[39m\u001b[39mFalse\u001b[39;00m\n\u001b[1;32m     54\u001b[0m )\n\u001b[1;32m     55\u001b[0m new_kwargs \u001b[39m=\u001b[39m ivy\u001b[39m.\u001b[39mnested_map(\n\u001b[1;32m     56\u001b[0m     kwargs, _to_ivy_array, include_derived\u001b[39m=\u001b[39m{\u001b[39mtuple\u001b[39m: \u001b[39mTrue\u001b[39;00m}, shallow\u001b[39m=\u001b[39m\u001b[39mFalse\u001b[39;00m\n\u001b[1;32m     57\u001b[0m )\n\u001b[0;32m---> 58\u001b[0m \u001b[39mreturn\u001b[39;00m fn(\u001b[39m*\u001b[39;49mnew_args, \u001b[39m*\u001b[39;49m\u001b[39m*\u001b[39;49mnew_kwargs)\n",
      "File \u001b[0;32m~/Documents/codes/unify/ivy/ivy/functional/frontends/torch/blas_and_lapack_ops.py:121\u001b[0m, in \u001b[0;36mmatmul\u001b[0;34m(input, other, out)\u001b[0m\n\u001b[1;32m    119\u001b[0m \u001b[39m@to_ivy_arrays_and_back\u001b[39m\n\u001b[1;32m    120\u001b[0m \u001b[39mdef\u001b[39;00m \u001b[39mmatmul\u001b[39m(\u001b[39minput\u001b[39m, other, \u001b[39m*\u001b[39m, out\u001b[39m=\u001b[39m\u001b[39mNone\u001b[39;00m):\n\u001b[0;32m--> 121\u001b[0m     \u001b[39minput\u001b[39m, other \u001b[39m=\u001b[39m torch_frontend\u001b[39m.\u001b[39;49mpromote_types_of_torch_inputs(\u001b[39minput\u001b[39;49m, other)\n\u001b[1;32m    122\u001b[0m     \u001b[39mreturn\u001b[39;00m ivy\u001b[39m.\u001b[39mmatmul(\u001b[39minput\u001b[39m, other, out\u001b[39m=\u001b[39mout)\n",
      "File \u001b[0;32m~/Documents/codes/unify/ivy/ivy/utils/exceptions.py:246\u001b[0m, in \u001b[0;36mhandle_exceptions.<locals>._handle_exceptions\u001b[0;34m(*args, **kwargs)\u001b[0m\n\u001b[1;32m    244\u001b[0m \u001b[39mexcept\u001b[39;00m (\u001b[39mException\u001b[39;00m, IvyBackendException) \u001b[39mas\u001b[39;00m e:\n\u001b[1;32m    245\u001b[0m     _write_traceback_history(buffer)\n\u001b[0;32m--> 246\u001b[0m     \u001b[39mraise\u001b[39;00m ivy\u001b[39m.\u001b[39mutils\u001b[39m.\u001b[39mexceptions\u001b[39m.\u001b[39mIvyBackendException(\n\u001b[1;32m    247\u001b[0m         fn\u001b[39m.\u001b[39m\u001b[39m__name__\u001b[39m, buffer\u001b[39m.\u001b[39mgetvalue() \u001b[39m+\u001b[39m \u001b[39m\"\u001b[39m\u001b[39m \u001b[39m\u001b[39m\"\u001b[39m \u001b[39m+\u001b[39m \u001b[39mstr\u001b[39m(e), include_backend\u001b[39m=\u001b[39m\u001b[39mTrue\u001b[39;00m\n\u001b[1;32m    248\u001b[0m     )\n",
      "\u001b[0;31mIvyBackendException\u001b[0m: numpy: promote_types_of_torch_inputs:   File \"/home/rishab/Documents/codes/unify/ivy/ivy/utils/exceptions.py\", line 210, in _handle_exceptions\n    return fn(*args, **kwargs)\n  File \"/home/rishab/Documents/codes/unify/ivy/ivy/functional/frontends/torch/__init__.py\", line 233, in promote_types_of_torch_inputs\n    x1 = ivy.asarray(x1)\n  File \"/home/rishab/Documents/codes/unify/ivy/ivy/func_wrapper.py\", line 400, in _handle_array_like_without_promotion\n    return fn(*args, **kwargs)\n  File \"/home/rishab/Documents/codes/unify/ivy/ivy/func_wrapper.py\", line 864, in _handle_out_argument\n    return fn(*args, out=out, **kwargs)\n  File \"/home/rishab/Documents/codes/unify/ivy/ivy/func_wrapper.py\", line 357, in _handle_array_function\n    return fn(*args, **kwargs)\n  File \"/home/rishab/Documents/codes/unify/ivy/ivy/functional/ivy/creation.py\", line 393, in asarray\n    return current_backend().asarray(\n  File \"/home/rishab/Documents/codes/unify/ivy/ivy/func_wrapper.py\", line 1130, in method\n    return fn(*args, **kwargs)\n  File \"/home/rishab/Documents/codes/unify/ivy/ivy/functional/ivy/creation.py\", line 128, in _asarray_to_native_arrays_and_back\n    return to_ivy(fn(*new_args, dtype=dtype, **kwargs))\n  File \"/home/rishab/Documents/codes/unify/ivy/ivy/functional/ivy/creation.py\", line 166, in _asarray_infer_device\n    return fn(*args, device=device, **kwargs)\n  File \"/home/rishab/Documents/codes/unify/ivy/ivy/functional/ivy/creation.py\", line 69, in _asarray_handle_nestable\n    return fn(*args, **kwargs)\n  File \"/home/rishab/Documents/codes/unify/ivy/ivy/functional/ivy/creation.py\", line 177, in _inputs_to_native_shapes\n    return fn(*new_args, **kwargs)\n  File \"/home/rishab/Documents/codes/unify/ivy/ivy/functional/backends/torch/creation.py\", line 172, in asarray\n    ret = torch.as_tensor(obj, dtype=dtype)\nDuring the handling of the above exception, another exception occurred:\n as_tensor(): argument 'dtype' must be torch.dtype, not numpy.dtype[float16]"
     ]
    }
   ],
   "source": [
    "torch_frontend.nn.functional.scaled_dot_product_attention(query, key, value)"
   ]
  },
  {
   "cell_type": "code",
   "execution_count": null,
   "metadata": {},
   "outputs": [],
   "source": []
  }
 ],
 "metadata": {
  "kernelspec": {
   "display_name": "ivy",
   "language": "python",
   "name": "python3"
  },
  "language_info": {
   "codemirror_mode": {
    "name": "ipython",
    "version": 3
   },
   "file_extension": ".py",
   "mimetype": "text/x-python",
   "name": "python",
   "nbconvert_exporter": "python",
   "pygments_lexer": "ipython3",
   "version": "3.10.11"
  },
  "orig_nbformat": 4
 },
 "nbformat": 4,
 "nbformat_minor": 2
}
