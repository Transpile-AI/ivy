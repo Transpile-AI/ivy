{
 "cells": [
  {
   "cell_type": "code",
   "execution_count": 1,
   "metadata": {},
   "outputs": [],
   "source": [
    "import ivy"
   ]
  },
  {
   "cell_type": "code",
   "execution_count": 2,
   "metadata": {},
   "outputs": [],
   "source": [
    "class Regressor(ivy.Module):\n",
    "    def __init__(self, input_dim, output_dim):\n",
    "        self.input_dim = input_dim\n",
    "        self.output_dim = output_dim\n",
    "        super().__init__()\n",
    "\n",
    "    def _build(self, *args, **kwargs):\n",
    "        self.linear0 = ivy.Linear(self.input_dim, 128)\n",
    "        self.linear1 = ivy.Linear(128, self.output_dim)\n",
    "\n",
    "    def _forward(self, x):\n",
    "        x = self.linear0(x)\n",
    "        x = ivy.functional.relu(x)\n",
    "        x = self.linear1(x)\n",
    "        return x"
   ]
  },
  {
   "cell_type": "code",
   "execution_count": 3,
   "metadata": {},
   "outputs": [
    {
     "data": {
      "text/plain": [
       "<module 'ivy.functional.backends.torch' from '/home/ubuntu/ivy/ivy/functional/backends/torch/__init__.py'>"
      ]
     },
     "execution_count": 3,
     "metadata": {},
     "output_type": "execute_result"
    }
   ],
   "source": [
    "ivy.set_backend('torch')  # set backend to PyTorch (or any other backend!)"
   ]
  },
  {
   "cell_type": "code",
   "execution_count": 4,
   "metadata": {},
   "outputs": [],
   "source": [
    "model = Regressor(input_dim=1, output_dim=1)\n",
    "optimizer = ivy.Adam(0.3)"
   ]
  },
  {
   "cell_type": "code",
   "execution_count": 5,
   "metadata": {},
   "outputs": [],
   "source": [
    "n_training_examples = 2000\n",
    "noise = ivy.random.random_normal(shape=(n_training_examples, 1), mean=0, std=0.1)\n",
    "x = ivy.linspace(-6, 3, n_training_examples).reshape((n_training_examples, 1))\n",
    "y = 0.2 * x ** 2 + 0.5 * x + 0.1 + noise"
   ]
  },
  {
   "cell_type": "code",
   "execution_count": 6,
   "metadata": {},
   "outputs": [],
   "source": [
    "def loss_fn(pred, target):\n",
    "    return ivy.mean((pred - target) ** 2)"
   ]
  },
  {
   "cell_type": "code",
   "execution_count": 7,
   "metadata": {},
   "outputs": [],
   "source": [
    "def predict(v, x):\n",
    "    return model(x, v=v)"
   ]
  },
  {
   "cell_type": "code",
   "execution_count": 8,
   "metadata": {},
   "outputs": [
    {
     "name": "stdout",
     "output_type": "stream",
     "text": [
      "Epoch:  1 --- Loss: 2.51639\n",
      "Epoch:  2 --- Loss: 12.46485\n",
      "Epoch:  3 --- Loss: 18.43765\n",
      "Epoch:  4 --- Loss: 6.79645\n",
      "Epoch:  5 --- Loss: 2.08207\n",
      "Epoch:  6 --- Loss: 4.37996\n",
      "Epoch:  7 --- Loss: 0.94749\n",
      "Epoch:  8 --- Loss: 4.93759\n",
      "Epoch:  9 --- Loss: 1.29695\n",
      "Epoch: 10 --- Loss: 1.28222\n",
      "Epoch: 11 --- Loss: 2.65415\n",
      "Epoch: 12 --- Loss: 0.86712\n",
      "Epoch: 13 --- Loss: 1.76360\n",
      "Epoch: 14 --- Loss: 1.49492\n",
      "Epoch: 15 --- Loss: 0.18759\n",
      "Epoch: 16 --- Loss: 1.29219\n",
      "Epoch: 17 --- Loss: 1.18577\n",
      "Epoch: 18 --- Loss: 0.34253\n",
      "Epoch: 19 --- Loss: 0.75743\n",
      "Epoch: 20 --- Loss: 0.64577\n",
      "Epoch: 21 --- Loss: 0.18163\n",
      "Epoch: 22 --- Loss: 0.49861\n",
      "Epoch: 23 --- Loss: 0.61242\n",
      "Epoch: 24 --- Loss: 0.17873\n",
      "Epoch: 25 --- Loss: 0.10279\n",
      "Epoch: 26 --- Loss: 0.41894\n",
      "Epoch: 27 --- Loss: 0.35724\n",
      "Epoch: 28 --- Loss: 0.08897\n",
      "Epoch: 29 --- Loss: 0.12829\n",
      "Epoch: 30 --- Loss: 0.27282\n",
      "Epoch: 31 --- Loss: 0.20826\n",
      "Epoch: 32 --- Loss: 0.08050\n",
      "Epoch: 33 --- Loss: 0.09153\n",
      "Epoch: 34 --- Loss: 0.14597\n",
      "Epoch: 35 --- Loss: 0.10721\n",
      "Epoch: 36 --- Loss: 0.06347\n",
      "Epoch: 37 --- Loss: 0.08914\n",
      "Epoch: 38 --- Loss: 0.10663\n",
      "Epoch: 39 --- Loss: 0.06793\n",
      "Epoch: 40 --- Loss: 0.03699\n",
      "Finished training!\n"
     ]
    }
   ],
   "source": [
    "for epoch in range(40):\n",
    "    # forward pass\n",
    "    pred = model(x)\n",
    "    loss = loss_fn(pred, y)\n",
    "    loss_grads = ivy.grad(loss_fn, 0)(pred, y)\n",
    "\n",
    "    pred, grads = ivy.execute_with_gradients(lambda params: predict(*params), (model.v, x), output_grads=loss_grads)\n",
    "\n",
    "    # update parameters\n",
    "    model.v = optimizer.step(model.v, grads)\n",
    "\n",
    "    # print current loss\n",
    "    print(f'Epoch: {epoch + 1:2d} --- Loss: {ivy.to_numpy(loss).item():.5f}')\n",
    "\n",
    "print('Finished training!')"
   ]
  }
 ],
 "metadata": {
  "kernelspec": {
   "display_name": "thinc",
   "language": "python",
   "name": "python3"
  },
  "language_info": {
   "codemirror_mode": {
    "name": "ipython",
    "version": 3
   },
   "file_extension": ".py",
   "mimetype": "text/x-python",
   "name": "python",
   "nbconvert_exporter": "python",
   "pygments_lexer": "ipython3",
   "version": "3.10.0"
  },
  "orig_nbformat": 4
 },
 "nbformat": 4,
 "nbformat_minor": 2
}
