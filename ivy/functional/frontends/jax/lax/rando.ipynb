{
 "cells": [
  {
   "cell_type": "code",
   "execution_count": 3,
   "metadata": {},
   "outputs": [
    {
     "ename": "TypeError",
     "evalue": "unsupported operand type(s) for +: 'tuple' and 'ArrayImpl'",
     "output_type": "error",
     "traceback": [
      "\u001b[0;31m---------------------------------------------------------------------------\u001b[0m",
      "\u001b[0;31mTypeError\u001b[0m                                 Traceback (most recent call last)",
      "Cell \u001b[0;32mIn[3], line 25\u001b[0m\n\u001b[1;32m     23\u001b[0m sequence \u001b[39m=\u001b[39m jnp\u001b[39m.\u001b[39marray([\u001b[39m1\u001b[39m, \u001b[39m2\u001b[39m, \u001b[39m3\u001b[39m, \u001b[39m4\u001b[39m, \u001b[39m5\u001b[39m])\n\u001b[1;32m     24\u001b[0m total_sum1 \u001b[39m=\u001b[39m sum_sequence(sequence)\n\u001b[0;32m---> 25\u001b[0m total_sum2 \u001b[39m=\u001b[39m sum_sequence_frontend(sequence)\n\u001b[1;32m     27\u001b[0m \u001b[39mprint\u001b[39m(\u001b[39m\"\u001b[39m\u001b[39mTotal sum native:\u001b[39m\u001b[39m\"\u001b[39m, total_sum1)\n\u001b[1;32m     28\u001b[0m \u001b[39mprint\u001b[39m(\u001b[39m\"\u001b[39m\u001b[39mTotal sum frontend:\u001b[39m\u001b[39m\"\u001b[39m, total_sum2)\n",
      "Cell \u001b[0;32mIn[3], line 19\u001b[0m, in \u001b[0;36msum_sequence_frontend\u001b[0;34m(inputs)\u001b[0m\n\u001b[1;32m     16\u001b[0m     \u001b[39mreturn\u001b[39;00m carry \u001b[39m+\u001b[39m x, carry \u001b[39m+\u001b[39m x\n\u001b[1;32m     18\u001b[0m init_value \u001b[39m=\u001b[39m jax_frontend\u001b[39m.\u001b[39mnumpy\u001b[39m.\u001b[39mzeros_like(inputs[\u001b[39m0\u001b[39m])\n\u001b[0;32m---> 19\u001b[0m _, result \u001b[39m=\u001b[39m jax_frontend\u001b[39m.\u001b[39;49mlax\u001b[39m.\u001b[39;49mscan(body, init_value, inputs)\n\u001b[1;32m     20\u001b[0m \u001b[39mreturn\u001b[39;00m result\n",
      "File \u001b[0;32m/Library/Frameworks/Python.framework/Versions/3.11/lib/python3.11/site-packages/ivy/functional/frontends/jax/func_wrapper.py:108\u001b[0m, in \u001b[0;36moutputs_to_frontend_arrays.<locals>._outputs_to_frontend_arrays_jax\u001b[0;34m(*args, **kwargs)\u001b[0m\n\u001b[1;32m    106\u001b[0m         ivy\u001b[39m.\u001b[39munset_default_float_dtype()\n\u001b[1;32m    107\u001b[0m \u001b[39melse\u001b[39;00m:\n\u001b[0;32m--> 108\u001b[0m     ret \u001b[39m=\u001b[39m fn(\u001b[39m*\u001b[39;49margs, \u001b[39m*\u001b[39;49m\u001b[39m*\u001b[39;49mkwargs)\n\u001b[1;32m    109\u001b[0m \u001b[39m# convert all arrays in the return to `jax_frontend.DeviceArray` instances\u001b[39;00m\n\u001b[1;32m    110\u001b[0m \u001b[39mif\u001b[39;00m weak_type:\n",
      "File \u001b[0;32m/Library/Frameworks/Python.framework/Versions/3.11/lib/python3.11/site-packages/ivy/functional/frontends/jax/func_wrapper.py:80\u001b[0m, in \u001b[0;36minputs_to_ivy_arrays.<locals>._inputs_to_ivy_arrays_jax\u001b[0;34m(*args, **kwargs)\u001b[0m\n\u001b[1;32m     78\u001b[0m \u001b[39mif\u001b[39;00m has_out:\n\u001b[1;32m     79\u001b[0m     new_kwargs[\u001b[39m\"\u001b[39m\u001b[39mout\u001b[39m\u001b[39m\"\u001b[39m] \u001b[39m=\u001b[39m out\n\u001b[0;32m---> 80\u001b[0m \u001b[39mreturn\u001b[39;00m fn(\u001b[39m*\u001b[39;49mnew_args, \u001b[39m*\u001b[39;49m\u001b[39m*\u001b[39;49mnew_kwargs)\n",
      "File \u001b[0;32m/Library/Frameworks/Python.framework/Versions/3.11/lib/python3.11/site-packages/ivy/functional/frontends/jax/lax/control_flow_operators.py:75\u001b[0m, in \u001b[0;36mscan\u001b[0;34m(f, init, xs, length, reverse, unroll)\u001b[0m\n\u001b[1;32m     73\u001b[0m \u001b[39mfor\u001b[39;00m x \u001b[39min\u001b[39;00m xs:\n\u001b[1;32m     74\u001b[0m     \u001b[39mfor\u001b[39;00m _ \u001b[39min\u001b[39;00m \u001b[39mrange\u001b[39m(unroll):\n\u001b[0;32m---> 75\u001b[0m         carry \u001b[39m=\u001b[39m f(carry, x)\n\u001b[1;32m     76\u001b[0m         ys\u001b[39m.\u001b[39mappend(carry)\n\u001b[1;32m     78\u001b[0m \u001b[39mreturn\u001b[39;00m ivy\u001b[39m.\u001b[39mstack(ys)\n",
      "Cell \u001b[0;32mIn[3], line 16\u001b[0m, in \u001b[0;36msum_sequence_frontend.<locals>.body\u001b[0;34m(carry, x)\u001b[0m\n\u001b[1;32m     15\u001b[0m \u001b[39mdef\u001b[39;00m \u001b[39mbody\u001b[39m(carry, x):\n\u001b[0;32m---> 16\u001b[0m     \u001b[39mreturn\u001b[39;00m carry \u001b[39m+\u001b[39;49m x, carry \u001b[39m+\u001b[39m x\n",
      "File \u001b[0;32m/Library/Frameworks/Python.framework/Versions/3.11/lib/python3.11/site-packages/jax/_src/numpy/array_methods.py:260\u001b[0m, in \u001b[0;36m_defer_to_unrecognized_arg.<locals>.deferring_binary_op\u001b[0;34m(self, other)\u001b[0m\n\u001b[1;32m    258\u001b[0m   \u001b[39mreturn\u001b[39;00m binary_op(\u001b[39m*\u001b[39margs)\n\u001b[1;32m    259\u001b[0m \u001b[39mif\u001b[39;00m \u001b[39misinstance\u001b[39m(other, _rejected_binop_types):\n\u001b[0;32m--> 260\u001b[0m   \u001b[39mraise\u001b[39;00m \u001b[39mTypeError\u001b[39;00m(\u001b[39mf\u001b[39m\u001b[39m\"\u001b[39m\u001b[39munsupported operand type(s) for \u001b[39m\u001b[39m{\u001b[39;00mopchar\u001b[39m}\u001b[39;00m\u001b[39m: \u001b[39m\u001b[39m\"\u001b[39m\n\u001b[1;32m    261\u001b[0m                   \u001b[39mf\u001b[39m\u001b[39m\"\u001b[39m\u001b[39m{\u001b[39;00m\u001b[39mtype\u001b[39m(args[\u001b[39m0\u001b[39m])\u001b[39m.\u001b[39m\u001b[39m__name__\u001b[39m\u001b[39m!r}\u001b[39;00m\u001b[39m and \u001b[39m\u001b[39m{\u001b[39;00m\u001b[39mtype\u001b[39m(args[\u001b[39m1\u001b[39m])\u001b[39m.\u001b[39m\u001b[39m__name__\u001b[39m\u001b[39m!r}\u001b[39;00m\u001b[39m\"\u001b[39m)\n\u001b[1;32m    262\u001b[0m \u001b[39mreturn\u001b[39;00m \u001b[39mNotImplemented\u001b[39m\n",
      "\u001b[0;31mTypeError\u001b[0m: unsupported operand type(s) for +: 'tuple' and 'ArrayImpl'"
     ]
    }
   ],
   "source": [
    "import jax\n",
    "import jax.numpy as jnp\n",
    "from jax import lax\n",
    "import ivy.functional.frontends.jax as jax_frontend\n",
    "\n",
    "def sum_sequence(inputs):\n",
    "    def body(carry, x):\n",
    "        return carry + x, carry + x\n",
    "\n",
    "    init_value = jnp.zeros_like(inputs[0])\n",
    "    _, result = lax.scan(body, init_value, inputs)\n",
    "    return result\n",
    "\n",
    "def sum_sequence_frontend(inputs):\n",
    "    def body(carry, x):\n",
    "        return carry + x, carry + x\n",
    "\n",
    "    init_value = jax_frontend.numpy.zeros_like(inputs[0])\n",
    "    _, result = jax_frontend.lax.scan(body, init_value, inputs)\n",
    "    return result\n",
    "\n",
    "if __name__ == \"__main__\":\n",
    "    sequence = jnp.array([1, 2, 3, 4, 5])\n",
    "    total_sum1 = sum_sequence(sequence)\n",
    "    total_sum2 = sum_sequence_frontend(sequence)\n",
    "\n",
    "    print(\"Total sum native:\", total_sum1)\n",
    "    print(\"Total sum frontend:\", total_sum2)\n"
   ]
  }
 ],
 "metadata": {
  "kernelspec": {
   "display_name": "Python 3",
   "language": "python",
   "name": "python3"
  },
  "language_info": {
   "codemirror_mode": {
    "name": "ipython",
    "version": 3
   },
   "file_extension": ".py",
   "mimetype": "text/x-python",
   "name": "python",
   "nbconvert_exporter": "python",
   "pygments_lexer": "ipython3",
   "version": "3.11.3"
  },
  "orig_nbformat": 4
 },
 "nbformat": 4,
 "nbformat_minor": 2
}
